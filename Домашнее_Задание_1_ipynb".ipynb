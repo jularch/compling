{
  "nbformat": 4,
  "nbformat_minor": 0,
  "metadata": {
    "colab": {
      "provenance": [],
      "mount_file_id": "1aLclXAcmS9_Elrrk2aTEvUs48q1IyzNd",
      "authorship_tag": "ABX9TyP18V7uT3E2me/vYVfoSm4E",
      "include_colab_link": true
    },
    "kernelspec": {
      "name": "python3",
      "display_name": "Python 3"
    },
    "language_info": {
      "name": "python"
    }
  },
  "cells": [
    {
      "cell_type": "markdown",
      "metadata": {
        "id": "view-in-github",
        "colab_type": "text"
      },
      "source": [
        "<a href=\"https://colab.research.google.com/github/jularch/compling/blob/main/%D0%94%D0%BE%D0%BC%D0%B0%D1%88%D0%BD%D0%B5%D0%B5_%D0%97%D0%B0%D0%B4%D0%B0%D0%BD%D0%B8%D0%B5_1_ipynb%22.ipynb\" target=\"_parent\"><img src=\"https://colab.research.google.com/assets/colab-badge.svg\" alt=\"Open In Colab\"/></a>"
      ]
    },
    {
      "cell_type": "code",
      "source": [
        "import nltk\n",
        "nltk.download('punkt')\n",
        "nltk.download('wordnet')\n",
        "nltk.download('stopwords')\n",
        "nltk.download('punkt')"
      ],
      "metadata": {
        "id": "c-3UMfHB5ALn",
        "colab": {
          "base_uri": "https://localhost:8080/"
        },
        "outputId": "3438ba67-af59-4d0c-b78a-34aeaea91e18"
      },
      "execution_count": 4,
      "outputs": [
        {
          "output_type": "stream",
          "name": "stderr",
          "text": [
            "[nltk_data] Downloading package punkt to /root/nltk_data...\n",
            "[nltk_data]   Package punkt is already up-to-date!\n",
            "[nltk_data] Downloading package wordnet to /root/nltk_data...\n",
            "[nltk_data] Downloading package stopwords to /root/nltk_data...\n",
            "[nltk_data]   Unzipping corpora/stopwords.zip.\n",
            "[nltk_data] Downloading package punkt to /root/nltk_data...\n",
            "[nltk_data]   Package punkt is already up-to-date!\n"
          ]
        },
        {
          "output_type": "execute_result",
          "data": {
            "text/plain": [
              "True"
            ]
          },
          "metadata": {},
          "execution_count": 4
        }
      ]
    },
    {
      "cell_type": "code",
      "execution_count": 1,
      "metadata": {
        "colab": {
          "base_uri": "https://localhost:8080/",
          "height": 36
        },
        "id": "2E-oTrSmvJLd",
        "outputId": "a4d16c6c-ef7a-43e5-e6f4-f228da9153fb"
      },
      "outputs": [
        {
          "output_type": "execute_result",
          "data": {
            "text/plain": [
              "'Prologue\\n\\nIN WHICH THE AUTHOR OF THIS SINGULAR WOR'"
            ],
            "application/vnd.google.colaboratory.intrinsic+json": {
              "type": "string"
            }
          },
          "metadata": {},
          "execution_count": 1
        }
      ],
      "source": [
        "import re\n",
        "import nltk\n",
        "from nltk.stem import WordNetLemmatizer\n",
        "from nltk.tokenize import word_tokenize\n",
        "from gensim.models import Word2Vec\n",
        "\n",
        "# прописываем путь к файлу\n",
        "file_path = '/content/The Phantom of the Opera (1).txt'\n",
        "\n",
        "# открываем файл для чтения ('r')\n",
        "with open(file_path, 'r') as file:\n",
        "    # записываем содержимое файла в переменную\n",
        "    text_content = file.read()\n",
        "\n",
        "# выведем на экран часть содержимого\n",
        "text_content[:50]\n",
        "\n"
      ]
    },
    {
      "cell_type": "code",
      "source": [
        "import re\n",
        "import nltk\n",
        "from nltk.stem import WordNetLemmatizer\n",
        "\n",
        "def clean_text(text):\n",
        "    # приводим текст к нижнему регистру\n",
        "    text = text.lower()\n",
        "\n",
        "    # удаляем все символы кроме букв\n",
        "    text = re.sub(r'[^a-z\\s]', '', text)\n",
        "\n",
        "    # удаляем двойные пробелы\n",
        "    text = re.sub(r'\\s+', ' ', text).strip()\n",
        "\n",
        "    return text\n",
        "\n",
        "cleaned_text = clean_text(text_content)\n",
        "\n",
        "# выведем на экран часть обработанного текста\n",
        "cleaned_text[:100]"
      ],
      "metadata": {
        "id": "FVIcKiLm6If0",
        "colab": {
          "base_uri": "https://localhost:8080/",
          "height": 36
        },
        "outputId": "35ab018c-2645-41b7-b92c-5553e92b53f9"
      },
      "execution_count": 5,
      "outputs": [
        {
          "output_type": "execute_result",
          "data": {
            "text/plain": [
              "'in which the author of this singular work informs the reader how he acquired the certainty that the '"
            ],
            "application/vnd.google.colaboratory.intrinsic+json": {
              "type": "string"
            }
          },
          "metadata": {},
          "execution_count": 5
        }
      ]
    },
    {
      "cell_type": "code",
      "source": [
        "\n",
        "import nltk\n",
        "from nltk.tokenize import word_tokenize\n",
        "from nltk.stem import WordNetLemmatizer\n",
        "from gensim.models import Word2Vec\n",
        "nltk.download('punkt')\n",
        "\n",
        "# токенизация по словам\n",
        "tokens = word_tokenize(cleaned_text)\n",
        "\n",
        "\n",
        "# выведем на экран несколько токенов\n",
        "tokens[:10]\n",
        "\n",
        "# задаем параметры нашей модели\n",
        "model = Word2Vec(sentences=[tokens], vector_size=80, window=5, min_count=1,\n",
        "                 workers=3)\n",
        "\n",
        "# выведем результат обучения модели\n",
        "model.wv['ghost']\n",
        "\n",
        "#model.wv.most_similar([\"ghost\"])\n",
        "\n",
        "#model.wv.similarity('ghost', 'phantom')\n",
        "\n",
        "#model.wv.doesnt_match(['ghost', 'phantom', 'manager'])\n"
      ],
      "metadata": {
        "id": "nlXQnfkWZ8cz"
      },
      "execution_count": null,
      "outputs": []
    },
    {
      "cell_type": "code",
      "source": [
        "\n",
        "model.wv.doesnt_match(['ghost', 'phantom', 'manager'])"
      ],
      "metadata": {
        "id": "NEED9k7itVq1"
      },
      "execution_count": null,
      "outputs": []
    },
    {
      "cell_type": "code",
      "source": [
        "\n",
        "model.wv.similarity('ghost', 'phantom')"
      ],
      "metadata": {
        "id": "6YDObtFftTBk"
      },
      "execution_count": null,
      "outputs": []
    },
    {
      "cell_type": "code",
      "source": [
        "model.wv.similarity('ghost', 'manager')"
      ],
      "metadata": {
        "id": "uSRbS7NGtOlG"
      },
      "execution_count": null,
      "outputs": []
    },
    {
      "cell_type": "markdown",
      "source": [
        "**Лемматизация**"
      ],
      "metadata": {
        "id": "hkPAooGdfV1y"
      }
    },
    {
      "cell_type": "code",
      "source": [
        "nltk.download('wordnet')"
      ],
      "metadata": {
        "id": "FNAqI1fwhwr5"
      },
      "execution_count": null,
      "outputs": []
    },
    {
      "cell_type": "code",
      "source": [
        "#ТОКЕНИЗАЦИЯ\n",
        "\n",
        "import nltk\n",
        "from nltk.tokenize import word_tokenize\n",
        "from nltk.stem import WordNetLemmatizer\n",
        "# Init the Wordnet Lemmatizer\n",
        "lemmatizer = WordNetLemmatizer()\n",
        "\n",
        "nltk.download('punkt')\n",
        "\n",
        "# прописываем путь к файлу\n",
        "file_path = '/content/КИ_Ларченкова_ПрОп.txt'\n",
        "\n",
        "# открываем файл для чтения ('r')\n",
        "with open(file_path, 'r') as file:\n",
        "    # записываем содержимое файла в переменную\n",
        "    text_content = file.read()\n",
        "\n",
        "\n",
        "def clean_text(text):\n",
        "    # приводим текст к нижнему регистру\n",
        "    text = text.lower()\n",
        "\n",
        "    # удаляем все символы кроме букв\n",
        "    text = re.sub(r'[^a-z\\s]', '', text)\n",
        "\n",
        "    # удаляем двойные пробелы\n",
        "    text = re.sub(r'\\s+', ' ', text).strip()\n",
        "\n",
        "    return text\n",
        "\n",
        "cleaned_text = clean_text(text_content)\n",
        "\n",
        "# токенизация по словам\n",
        "tokens = word_tokenize(cleaned_text)\n",
        "tokens[:10]"
      ],
      "metadata": {
        "colab": {
          "base_uri": "https://localhost:8080/"
        },
        "id": "rskwmRv6bxMC",
        "outputId": "30d8354e-f1cb-4a5b-b031-a3f756c6b4e8"
      },
      "execution_count": 3,
      "outputs": [
        {
          "output_type": "stream",
          "name": "stderr",
          "text": [
            "[nltk_data] Downloading package punkt to /root/nltk_data...\n",
            "[nltk_data]   Package punkt is already up-to-date!\n"
          ]
        },
        {
          "output_type": "execute_result",
          "data": {
            "text/plain": [
              "['in',\n",
              " 'which',\n",
              " 'the',\n",
              " 'author',\n",
              " 'of',\n",
              " 'this',\n",
              " 'singular',\n",
              " 'work',\n",
              " 'informs',\n",
              " 'the']"
            ]
          },
          "metadata": {},
          "execution_count": 3
        }
      ]
    },
    {
      "cell_type": "code",
      "source": [
        "!pip install -U spacy"
      ],
      "metadata": {
        "id": "YToQ1-JdpHMv"
      },
      "execution_count": null,
      "outputs": []
    },
    {
      "cell_type": "code",
      "source": [
        "import re\n",
        "import spacy\n",
        "import nltk\n",
        "from nltk.tokenize import word_tokenize\n",
        "from nltk.stem import WordNetLemmatizer\n",
        "\n",
        "lemmatizer = WordNetLemmatizer()\n",
        "\n",
        "nltk.download('punkt')\n",
        "\n",
        "# прописываем путь к файлу\n",
        "file_path = '/content/КИ_Ларченкова_ПрОп.txt'\n",
        "\n",
        "# открываем файл для чтения ('r')\n",
        "with open(file_path, 'r') as file:\n",
        "    # записываем содержимое файла в переменную\n",
        "    text_content = file.read()\n",
        "\n",
        "\n",
        "def clean_text(text):\n",
        "    # приводим текст к нижнему регистру\n",
        "    text = text.lower()\n",
        "\n",
        "    # удаляем все символы кроме букв\n",
        "    text = re.sub(r'[^a-z\\s]', '', text)\n",
        "\n",
        "    # удаляем двойные пробелы\n",
        "    text = re.sub(r'\\s+', ' ', text).strip()\n",
        "\n",
        "    return text\n",
        "\n",
        "cleaned_text = clean_text(text_content)\n",
        "\n",
        "tokens = word_tokenize(cleaned_text)\n",
        "\n",
        "# токенизация по словам\n",
        "tokens = word_tokenize(cleaned_text)\n",
        "\n",
        "# Лемматизация текста\n",
        "sentence = cleaned_text\n",
        "\n",
        "# Tokenize: Split the sentence into words\n",
        "word_list = nltk.word_tokenize(sentence)\n",
        "\n",
        "\n",
        "nlp = spacy.load(\"en_core_web_sm\")\n",
        "doc = nlp(sentence)\n",
        "\n",
        "for token in doc:\n",
        "    print(token.text, token.lemma_)\n"
      ],
      "metadata": {
        "id": "Ys1XNGRriOlm"
      },
      "execution_count": null,
      "outputs": []
    },
    {
      "cell_type": "markdown",
      "source": [
        "**3. Визуализация**"
      ],
      "metadata": {
        "id": "fMRuVCeL64vA"
      }
    },
    {
      "cell_type": "code",
      "source": [
        "import matplotlib.pyplot as plt\n",
        "plt.style.use('seaborn-v0_8')\n",
        "\n",
        "from sklearn.decomposition import PCA\n",
        "\n",
        "pca_scatterplot(model, ['ghost', 'manager', 'phantom', 'man', 'singer', 'old',\n",
        "                        'love', 'legendary', 'supreme', 'opera'])\n",
        "\n",
        "def pca_scatterplot(model, words=None, sample=0):\n",
        "  word_vectors = [model.wv[w] for w in words]\n",
        "  # сократить размерность векторов до 2D\n",
        "  vectors_2d = PCA().fit_transform(word_vectors)\n",
        "  # отрисовка изображения, задаем размер 12 на 10\n",
        "  plt.figure(figsize=(12,10))\n",
        "  # задаем цвет точек и ссылаемся на данные по осям x (0) и y (1)\n",
        "  plt.scatter(vectors_2d[:,0], vectors_2d[:,1], c='b')\n",
        "  # добавляем подписи к данным, проходимся по списку слов\n",
        "  for i, word in enumerate(words):\n",
        "    # соотносим слово с его двухмерным вектором\n",
        "    plt.annotate(word, (vectors_2d[i, 0], vectors_2d[i, 1]))\n"
      ],
      "metadata": {
        "id": "4jhdJNmV60qc",
        "colab": {
          "base_uri": "https://localhost:8080/",
          "height": 830
        },
        "outputId": "c874bb52-8055-4f8c-bfbe-69bdd827844c"
      },
      "execution_count": 10,
      "outputs": [
        {
          "output_type": "display_data",
          "data": {
            "text/plain": [
              "<Figure size 1200x1000 with 1 Axes>"
            ],
            "image/png": "[encoded data removed]"
          },
          "metadata": {}
        }
      ]
    },
    {
      "cell_type": "markdown",
      "source": [
        "КОРПУС"
      ],
      "metadata": {
        "id": "_qcM8pTxHXU4"
      }
    },
    {
      "cell_type": "code",
      "source": [
        "import gensim\n",
        "import os\n",
        "from gensim.utils import simple_preprocess\n",
        "import logging\n",
        "logging.basicConfig(format='%(asctime)s : %(levelname)s : %(message)s',\n",
        "                    level=logging.INFO)\n",
        "from pprint import pprint as print\n",
        "from gensim.models.fasttext import FastText\n",
        "from gensim.test.utils import datapath\n",
        "\n",
        "\n",
        "#  прочитать текстовый файл как объект\n",
        "doc = open('/content/The Phantom of the Opera (1).txt', encoding ='utf-8')\n",
        "\n",
        "# предварительная обработка файла для получения списка токенов\n",
        "tokenized = []\n",
        "for sentence in doc.read().split('.'):\n",
        "    # функция simple_preprocess возвращает список слов каждого предложения\n",
        "    tokenized.append(simple_preprocess(sentence, deacc = True))\n",
        "\n",
        "# Set file names for train and test data\n",
        "corpus_file = datapath('/content/The Phantom of the Opera (1).txt')\n",
        "\n",
        "model = FastText(vector_size=50)\n",
        "\n",
        "# создание словаря\n",
        "model.build_vocab(corpus_file=corpus_file)\n",
        "\n",
        "# обучение модели\n",
        "model.train(\n",
        "    corpus_file=corpus_file, epochs=model.epochs,\n",
        "    total_examples=model.corpus_count, total_words=model.corpus_total_words,\n",
        ")\n",
        "\n",
        "print(model)\n",
        "\n",
        "# поиск вектора слов\n",
        "\n",
        "wv = model.wv\n",
        "print(wv)\n",
        "\n",
        "print('ghost' in wv.key_to_index)\n",
        "# выводим ветор слова\n",
        "print(wv['ghost'])\n",
        "# выводим подобные слова\n",
        "print(wv.most_similar(\"ghost\"))\n"
      ],
      "metadata": {
        "id": "EmQACRjDBLOm",
        "colab": {
          "base_uri": "https://localhost:8080/"
        },
        "outputId": "0a351312-56c6-4519-89e7-c09dd6f6a30a"
      },
      "execution_count": 8,
      "outputs": [
        {
          "output_type": "stream",
          "name": "stdout",
          "text": [
            "<gensim.models.fasttext.FastText object at 0x7b562e53d090>\n",
            "<gensim.models.fasttext.FastTextKeyedVectors object at 0x7b562e53d060>\n",
            "True\n",
            "array([-0.761715  , -0.31795752,  0.17151438, -0.16375382, -0.33665758,\n",
            "        0.16733697, -0.3598754 ,  0.42615113, -0.27894396,  0.7922433 ,\n",
            "        1.0366114 , -0.08739612,  0.84126675,  0.39666554, -0.5890536 ,\n",
            "        0.4780899 ,  0.5592147 ,  0.04474236, -0.2487119 , -0.873767  ,\n",
            "       -0.6027067 , -0.35787544,  0.49465057, -0.06333248,  0.18929647,\n",
            "       -0.14575663, -0.7489846 ,  0.46159792, -0.46313447,  1.1130763 ,\n",
            "        0.08130451,  0.0054423 , -0.33495274,  0.7502931 , -0.06016837,\n",
            "        0.73681647, -0.2056509 ,  0.66205597, -0.0494933 , -0.25707123,\n",
            "        0.0703086 , -0.00904094, -0.20295173,  0.86674666,  0.3497881 ,\n",
            "       -1.3102925 ,  0.0143507 ,  0.5224401 ,  0.05802828, -0.09466402],\n",
            "      dtype=float32)\n",
            "[('ghost,', 0.9999856352806091),\n",
            " (\"ghost's\", 0.9999747276306152),\n",
            " ('ghost.', 0.9999743103981018),\n",
            " ('ghost!', 0.9999651908874512),\n",
            " ('ghost!\"', 0.999963641166687),\n",
            " ('ghost?\"', 0.999956488609314),\n",
            " ('most', 0.999955415725708),\n",
            " ('begin', 0.999945878982544),\n",
            " ('monster', 0.9999407529830933),\n",
            " ('lost', 0.9999383091926575)]\n"
          ]
        }
      ]
    },
    {
      "cell_type": "markdown",
      "source": [
        "**WordMovers**"
      ],
      "metadata": {
        "id": "VKtfdMoMoXt4"
      }
    },
    {
      "cell_type": "code",
      "source": [
        "!pip install POT"
      ],
      "metadata": {
        "id": "raZbn8SXoXNO"
      },
      "execution_count": null,
      "outputs": []
    },
    {
      "cell_type": "code",
      "source": [
        "sentence_christine = 'Christine is sure her angel of music is her father'.lower().split()\n",
        "sentence_raoul = 'Raoul knows there is no phantom of the opera'.lower().split()\n",
        "\n",
        "# убираем стоп-слова\n",
        "\n",
        "from gensim.parsing.preprocessing import STOPWORDS\n",
        "sentence_chrisitne = [w for w in sentence_christine if w not in STOPWORDS]\n",
        "sentence_raoul = [w for w in sentence_raoul if w not in STOPWORDS]\n",
        "\n",
        "# вычисляем расстояние между предложениями\n",
        "\n",
        "distance = wv.wmdistance(sentence_christine, sentence_raoul)\n",
        "print(f\"Word Movers Distance is {distance} (lower means closer)\")"
      ],
      "metadata": {
        "id": "NcGqed7PrDli"
      },
      "execution_count": null,
      "outputs": []
    }
  ]
}